{
  "nbformat": 4,
  "nbformat_minor": 0,
  "metadata": {
    "colab": {
      "provenance": []
    },
    "kernelspec": {
      "name": "python3",
      "display_name": "Python 3"
    },
    "language_info": {
      "name": "python"
    }
  },
  "cells": [
    {
      "cell_type": "code",
      "source": [
        "!pip install -q git+https://github.com/openai/whisper.git\n",
        "!apt-get update\n",
        "!apt-get install -y ffmpeg"
      ],
      "metadata": {
        "id": "SSfD-K78HpNa"
      },
      "execution_count": null,
      "outputs": []
    },
    {
      "cell_type": "code",
      "execution_count": null,
      "metadata": {
        "id": "5YMRlFIrHcAr"
      },
      "outputs": [],
      "source": [
        "import whisper\n",
        "import urllib.request\n",
        "\n",
        "# Download the video\n",
        "video_url = \"https://archive.org/download/tobacco_yqwg0225/tobacco_yqwg0225.mp4\"\n",
        "video_file = \"video.mp4\"\n",
        "urllib.request.urlretrieve(video_url, video_file)\n",
        "\n",
        "# Load Whisper model\n",
        "model = whisper.load_model(\"tiny\")\n",
        "\n",
        "# Transcribe directly from the video file\n",
        "result = model.transcribe(video_file)\n"
      ]
    },
    {
      "cell_type": "code",
      "source": [
        "result"
      ],
      "metadata": {
        "id": "76SZ66ihIUiI"
      },
      "execution_count": null,
      "outputs": []
    },
    {
      "cell_type": "code",
      "source": [],
      "metadata": {
        "id": "8p0m3QHLIV0m"
      },
      "execution_count": null,
      "outputs": []
    }
  ]
}