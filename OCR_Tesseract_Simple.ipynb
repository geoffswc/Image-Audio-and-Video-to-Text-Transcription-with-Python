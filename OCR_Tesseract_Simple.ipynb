{
  "nbformat": 4,
  "nbformat_minor": 0,
  "metadata": {
    "colab": {
      "provenance": []
    },
    "kernelspec": {
      "name": "python3",
      "display_name": "Python 3"
    },
    "language_info": {
      "name": "python"
    }
  },
  "cells": [
    {
      "cell_type": "code",
      "source": [
        "!apt-get update\n",
        "!apt-get install -y tesseract-ocr\n",
        "!pip install pytesseract"
      ],
      "metadata": {
        "id": "8Nbmzzi0J4pQ"
      },
      "execution_count": null,
      "outputs": []
    },
    {
      "cell_type": "code",
      "execution_count": null,
      "metadata": {
        "id": "48_WqKVyJyxL"
      },
      "outputs": [],
      "source": [
        "import pytesseract\n",
        "from PIL import Image\n",
        "import urllib.request\n",
        "\n",
        "# Download an example image (replace URL with your image)\n",
        "image_url = \"https://github.com/geoffswc/Image-Audio-and-Video-to-Text-Transcription-with-Python/blob/main/images/warning_frame_img.jpg?raw=true\"\n",
        "image_path = \"example.png\"\n",
        "urllib.request.urlretrieve(image_url, image_path)\n",
        "\n",
        "# Open image and extract text\n",
        "img = Image.open(image_path)\n",
        "text = pytesseract.image_to_string(img)"
      ]
    },
    {
      "cell_type": "code",
      "source": [
        "print(text)"
      ],
      "metadata": {
        "id": "gRpX-orjKHCB"
      },
      "execution_count": null,
      "outputs": []
    },
    {
      "cell_type": "code",
      "source": [],
      "metadata": {
        "id": "4D21rBNDMv5c"
      },
      "execution_count": null,
      "outputs": []
    }
  ]
}