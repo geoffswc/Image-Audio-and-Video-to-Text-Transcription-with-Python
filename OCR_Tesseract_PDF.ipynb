{
  "nbformat": 4,
  "nbformat_minor": 0,
  "metadata": {
    "colab": {
      "provenance": []
    },
    "kernelspec": {
      "name": "python3",
      "display_name": "Python 3"
    },
    "language_info": {
      "name": "python"
    }
  },
  "cells": [
    {
      "cell_type": "code",
      "source": [
        "!apt-get install -y poppler-utils tesseract-ocr\n",
        "!pip install pytesseract pdf2image"
      ],
      "metadata": {
        "id": "mO4trWnPbaPP"
      },
      "execution_count": null,
      "outputs": []
    },
    {
      "cell_type": "code",
      "execution_count": null,
      "metadata": {
        "id": "UY2G08Imaiff"
      },
      "outputs": [],
      "source": [
        "import urllib.request\n",
        "import pytesseract\n",
        "from pdf2image import convert_from_path\n",
        "\n",
        "# Install poppler for pdf2image to work (instructions vary by OS)\n",
        "\n",
        "# Download PDF\n",
        "pdf_url = \"https://github.com/geoffswc/Image-Audio-and-Video-to-Text-Transcription-with-Python/raw/main/images/warning_frame_pdf.pdf\"\n",
        "pdf_path = \"pdf_sample.pdf\"\n",
        "urllib.request.urlretrieve(pdf_url, pdf_path)\n",
        "\n",
        "# Convert PDF pages to images\n",
        "images = convert_from_path(pdf_path)\n",
        "\n",
        "# OCR each image\n",
        "all_text = \"\"\n",
        "for i, img in enumerate(images):\n",
        "    text = pytesseract.image_to_string(img)\n",
        "    all_text += f\"\\n\\n--- Page {i+1} ---\\n{text}\"\n",
        "\n",
        "print(all_text)\n"
      ]
    },
    {
      "cell_type": "code",
      "source": [
        "images[0]"
      ],
      "metadata": {
        "id": "373KwC6MbFGw"
      },
      "execution_count": null,
      "outputs": []
    },
    {
      "cell_type": "code",
      "source": [],
      "metadata": {
        "id": "YcnSmkuGdYJw"
      },
      "execution_count": null,
      "outputs": []
    }
  ]
}